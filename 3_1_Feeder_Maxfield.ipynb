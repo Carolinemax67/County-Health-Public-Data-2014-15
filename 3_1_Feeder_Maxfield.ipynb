{
  "nbformat": 4,
  "nbformat_minor": 0,
  "metadata": {
    "colab": {
      "provenance": []
    },
    "kernelspec": {
      "name": "python3",
      "display_name": "Python 3"
    },
    "language_info": {
      "name": "python"
    }
  },
  "cells": [
    {
      "cell_type": "markdown",
      "source": [
        "# Instructional guide for County Health Data 2014-2015\n",
        "\n"
      ],
      "metadata": {
        "id": "hvnmKyavzcVN"
      }
    },
    {
      "cell_type": "markdown",
      "source": [
        "##1) Getting Started"
      ],
      "metadata": {
        "id": "H4BvHfcf9Wmm"
      }
    },
    {
      "cell_type": "markdown",
      "source": [
        "The best way to access your data with Colab is through mounting your Google Drive. This ensures that your .csv files are stored properly.\n",
        "\n",
        "We can do this by importing this code:\n",
        "\n",
        "*Note: to enter a new block of code, hover your mouse under the text and hit \"+ Code\"*"
      ],
      "metadata": {
        "id": "-A5szzSZ93aa"
      }
    },
    {
      "cell_type": "code",
      "source": [
        "from google.colab import drive\n",
        "drive.mount('/content/gdrive')"
      ],
      "metadata": {
        "colab": {
          "base_uri": "https://localhost:8080/"
        },
        "id": "7dThfiZaxqda",
        "outputId": "8b6e314a-d133-4b28-f59f-c4019d14e5ab"
      },
      "execution_count": null,
      "outputs": [
        {
          "output_type": "stream",
          "name": "stdout",
          "text": [
            "Mounted at /content/gdrive\n"
          ]
        }
      ]
    },
    {
      "cell_type": "markdown",
      "source": [
        "##2) Importing Pandas"
      ],
      "metadata": {
        "id": "i1GimttLAHp-"
      }
    },
    {
      "cell_type": "markdown",
      "source": [
        "Next, we need to import the necessary packages to do more things within Python. Pandas allows us to visualize our data with rows, columns, and headers.\n",
        "\n",
        "We can import Pandas using this code:"
      ],
      "metadata": {
        "id": "fWe_D8CVAeYs"
      }
    },
    {
      "cell_type": "code",
      "execution_count": null,
      "metadata": {
        "id": "iuh0SqkYxlpZ"
      },
      "outputs": [],
      "source": [
        "import pandas as pd"
      ]
    },
    {
      "cell_type": "code",
      "source": [
        "import numpy as np"
      ],
      "metadata": {
        "id": "vwt776Leyswn"
      },
      "execution_count": null,
      "outputs": []
    },
    {
      "cell_type": "markdown",
      "source": [
        "##3) Creating a DataFrame\n"
      ],
      "metadata": {
        "id": "MkPP6_oTBF3I"
      }
    },
    {
      "cell_type": "markdown",
      "source": [
        "First, start by ensuring that your .csv file is properly dowloaded in your google drive.\n",
        "\n",
        "*Note: for this step, create a new folder labeled \"Colab Notebooks\" and import your .csv file into that folder*\n",
        "\n",
        "Next, double check the name of your file before performing this step\n",
        "Once you do this, all you need to do is locate the file using that name!\n",
        "\n",
        "####Using the pd.read_csv() function\n",
        "\n",
        "For this, we're going to be using the \"CountyHealthData_2014-2015.csv\" file.\n",
        "\n",
        "In order for Python to read it as a dataframe, we're going to be defining the code with \"df\"\n",
        "\n",
        "\n",
        "Now, we can insert the file into Python using this code:\n"
      ],
      "metadata": {
        "id": "sbaxwflzEV26"
      }
    },
    {
      "cell_type": "code",
      "source": [
        "df=pd.read_csv('gdrive/My Drive/Colab Notebooks/CountyHealthData.csv')"
      ],
      "metadata": {
        "id": "5CU6V8N5yvYZ"
      },
      "execution_count": null,
      "outputs": []
    },
    {
      "cell_type": "markdown",
      "source": [
        "##4) Narrowing it Down"
      ],
      "metadata": {
        "id": "5ls6KBxwLeIZ"
      }
    },
    {
      "cell_type": "markdown",
      "source": [
        "If we want to showcase a certain section of the data we can define it, using df, and then use brackets.\n",
        "\n",
        "Brackets allow us to narrow down what rows we want to see.\n",
        "\n",
        "I'm going to start by only showing the first 5 rows of my dataset.\n",
        "I can do so by imputting this code:"
      ],
      "metadata": {
        "id": "RAeqSVIiIFsu"
      }
    },
    {
      "cell_type": "code",
      "source": [
        "df[0:5]"
      ],
      "metadata": {
        "colab": {
          "base_uri": "https://localhost:8080/",
          "height": 508
        },
        "id": "Tly-jx830K6u",
        "outputId": "f57e4107-03d0-4557-a375-1bb06fb8c8ba"
      },
      "execution_count": null,
      "outputs": [
        {
          "output_type": "execute_result",
          "data": {
            "text/plain": [
              "  State Region Division                      County  FIPS  GEOID   SMS Region  \\\n",
              "0    AK   West  Pacific  Aleutians West Census Area  2016   2016  Insuff Data   \n",
              "1    AK   West  Pacific  Aleutians West Census Area  2016   2016  Insuff Data   \n",
              "2    AK   West  Pacific           Anchorage Borough  2020   2020    Region 22   \n",
              "3    AK   West  Pacific           Anchorage Borough  2020   2020    Region 22   \n",
              "4    AK   West  Pacific          Bethel Census Area  2050   2050  Insuff Data   \n",
              "\n",
              "       Year  Premature death  Poor or fair health  ...  Drug poisoning deaths  \\\n",
              "0  1/1/2014              NaN                0.122  ...                    NaN   \n",
              "1  1/1/2015              NaN                0.122  ...                    NaN   \n",
              "2  1/1/2014           6827.0                0.125  ...                  15.37   \n",
              "3  1/1/2015           6856.0                0.125  ...                  17.08   \n",
              "4  1/1/2014          13345.0                0.211  ...                    NaN   \n",
              "\n",
              "   Uninsured adults  Uninsured children  Health care costs  \\\n",
              "0             0.374               0.250             3791.0   \n",
              "1             0.314               0.176             4837.0   \n",
              "2             0.218               0.096             6588.0   \n",
              "3             0.227               0.123             6582.0   \n",
              "4             0.394               0.124             5860.0   \n",
              "\n",
              "   Could not see doctor due to cost  Other primary care providers  \\\n",
              "0                             0.185                         216.0   \n",
              "1                             0.185                         254.0   \n",
              "2                             0.119                         135.0   \n",
              "3                             0.119                         148.0   \n",
              "4                             0.200                         169.0   \n",
              "\n",
              "   Median household income  Children eligible for free lunch  Homicide rate  \\\n",
              "0                    69192                             0.127            NaN   \n",
              "1                    74088                             0.133            NaN   \n",
              "2                    71094                             0.319           6.29   \n",
              "3                    76362                             0.334           5.60   \n",
              "4                    41722                             0.668          12.77   \n",
              "\n",
              "   Inadequate social support  \n",
              "0                      0.287  \n",
              "1                        NaN  \n",
              "2                      0.160  \n",
              "3                        NaN  \n",
              "4                      0.477  \n",
              "\n",
              "[5 rows x 64 columns]"
            ],
            "text/html": [
              "\n",
              "  <div id=\"df-9336a60f-e4f5-449a-bd1a-33bb2eb1a687\" class=\"colab-df-container\">\n",
              "    <div>\n",
              "<style scoped>\n",
              "    .dataframe tbody tr th:only-of-type {\n",
              "        vertical-align: middle;\n",
              "    }\n",
              "\n",
              "    .dataframe tbody tr th {\n",
              "        vertical-align: top;\n",
              "    }\n",
              "\n",
              "    .dataframe thead th {\n",
              "        text-align: right;\n",
              "    }\n",
              "</style>\n",
              "<table border=\"1\" class=\"dataframe\">\n",
              "  <thead>\n",
              "    <tr style=\"text-align: right;\">\n",
              "      <th></th>\n",
              "      <th>State</th>\n",
              "      <th>Region</th>\n",
              "      <th>Division</th>\n",
              "      <th>County</th>\n",
              "      <th>FIPS</th>\n",
              "      <th>GEOID</th>\n",
              "      <th>SMS Region</th>\n",
              "      <th>Year</th>\n",
              "      <th>Premature death</th>\n",
              "      <th>Poor or fair health</th>\n",
              "      <th>...</th>\n",
              "      <th>Drug poisoning deaths</th>\n",
              "      <th>Uninsured adults</th>\n",
              "      <th>Uninsured children</th>\n",
              "      <th>Health care costs</th>\n",
              "      <th>Could not see doctor due to cost</th>\n",
              "      <th>Other primary care providers</th>\n",
              "      <th>Median household income</th>\n",
              "      <th>Children eligible for free lunch</th>\n",
              "      <th>Homicide rate</th>\n",
              "      <th>Inadequate social support</th>\n",
              "    </tr>\n",
              "  </thead>\n",
              "  <tbody>\n",
              "    <tr>\n",
              "      <th>0</th>\n",
              "      <td>AK</td>\n",
              "      <td>West</td>\n",
              "      <td>Pacific</td>\n",
              "      <td>Aleutians West Census Area</td>\n",
              "      <td>2016</td>\n",
              "      <td>2016</td>\n",
              "      <td>Insuff Data</td>\n",
              "      <td>1/1/2014</td>\n",
              "      <td>NaN</td>\n",
              "      <td>0.122</td>\n",
              "      <td>...</td>\n",
              "      <td>NaN</td>\n",
              "      <td>0.374</td>\n",
              "      <td>0.250</td>\n",
              "      <td>3791.0</td>\n",
              "      <td>0.185</td>\n",
              "      <td>216.0</td>\n",
              "      <td>69192</td>\n",
              "      <td>0.127</td>\n",
              "      <td>NaN</td>\n",
              "      <td>0.287</td>\n",
              "    </tr>\n",
              "    <tr>\n",
              "      <th>1</th>\n",
              "      <td>AK</td>\n",
              "      <td>West</td>\n",
              "      <td>Pacific</td>\n",
              "      <td>Aleutians West Census Area</td>\n",
              "      <td>2016</td>\n",
              "      <td>2016</td>\n",
              "      <td>Insuff Data</td>\n",
              "      <td>1/1/2015</td>\n",
              "      <td>NaN</td>\n",
              "      <td>0.122</td>\n",
              "      <td>...</td>\n",
              "      <td>NaN</td>\n",
              "      <td>0.314</td>\n",
              "      <td>0.176</td>\n",
              "      <td>4837.0</td>\n",
              "      <td>0.185</td>\n",
              "      <td>254.0</td>\n",
              "      <td>74088</td>\n",
              "      <td>0.133</td>\n",
              "      <td>NaN</td>\n",
              "      <td>NaN</td>\n",
              "    </tr>\n",
              "    <tr>\n",
              "      <th>2</th>\n",
              "      <td>AK</td>\n",
              "      <td>West</td>\n",
              "      <td>Pacific</td>\n",
              "      <td>Anchorage Borough</td>\n",
              "      <td>2020</td>\n",
              "      <td>2020</td>\n",
              "      <td>Region 22</td>\n",
              "      <td>1/1/2014</td>\n",
              "      <td>6827.0</td>\n",
              "      <td>0.125</td>\n",
              "      <td>...</td>\n",
              "      <td>15.37</td>\n",
              "      <td>0.218</td>\n",
              "      <td>0.096</td>\n",
              "      <td>6588.0</td>\n",
              "      <td>0.119</td>\n",
              "      <td>135.0</td>\n",
              "      <td>71094</td>\n",
              "      <td>0.319</td>\n",
              "      <td>6.29</td>\n",
              "      <td>0.160</td>\n",
              "    </tr>\n",
              "    <tr>\n",
              "      <th>3</th>\n",
              "      <td>AK</td>\n",
              "      <td>West</td>\n",
              "      <td>Pacific</td>\n",
              "      <td>Anchorage Borough</td>\n",
              "      <td>2020</td>\n",
              "      <td>2020</td>\n",
              "      <td>Region 22</td>\n",
              "      <td>1/1/2015</td>\n",
              "      <td>6856.0</td>\n",
              "      <td>0.125</td>\n",
              "      <td>...</td>\n",
              "      <td>17.08</td>\n",
              "      <td>0.227</td>\n",
              "      <td>0.123</td>\n",
              "      <td>6582.0</td>\n",
              "      <td>0.119</td>\n",
              "      <td>148.0</td>\n",
              "      <td>76362</td>\n",
              "      <td>0.334</td>\n",
              "      <td>5.60</td>\n",
              "      <td>NaN</td>\n",
              "    </tr>\n",
              "    <tr>\n",
              "      <th>4</th>\n",
              "      <td>AK</td>\n",
              "      <td>West</td>\n",
              "      <td>Pacific</td>\n",
              "      <td>Bethel Census Area</td>\n",
              "      <td>2050</td>\n",
              "      <td>2050</td>\n",
              "      <td>Insuff Data</td>\n",
              "      <td>1/1/2014</td>\n",
              "      <td>13345.0</td>\n",
              "      <td>0.211</td>\n",
              "      <td>...</td>\n",
              "      <td>NaN</td>\n",
              "      <td>0.394</td>\n",
              "      <td>0.124</td>\n",
              "      <td>5860.0</td>\n",
              "      <td>0.200</td>\n",
              "      <td>169.0</td>\n",
              "      <td>41722</td>\n",
              "      <td>0.668</td>\n",
              "      <td>12.77</td>\n",
              "      <td>0.477</td>\n",
              "    </tr>\n",
              "  </tbody>\n",
              "</table>\n",
              "<p>5 rows × 64 columns</p>\n",
              "</div>\n",
              "    <div class=\"colab-df-buttons\">\n",
              "\n",
              "  <div class=\"colab-df-container\">\n",
              "    <button class=\"colab-df-convert\" onclick=\"convertToInteractive('df-9336a60f-e4f5-449a-bd1a-33bb2eb1a687')\"\n",
              "            title=\"Convert this dataframe to an interactive table.\"\n",
              "            style=\"display:none;\">\n",
              "\n",
              "  <svg xmlns=\"http://www.w3.org/2000/svg\" height=\"24px\" viewBox=\"0 -960 960 960\">\n",
              "    <path d=\"M120-120v-720h720v720H120Zm60-500h600v-160H180v160Zm220 220h160v-160H400v160Zm0 220h160v-160H400v160ZM180-400h160v-160H180v160Zm440 0h160v-160H620v160ZM180-180h160v-160H180v160Zm440 0h160v-160H620v160Z\"/>\n",
              "  </svg>\n",
              "    </button>\n",
              "\n",
              "  <style>\n",
              "    .colab-df-container {\n",
              "      display:flex;\n",
              "      gap: 12px;\n",
              "    }\n",
              "\n",
              "    .colab-df-convert {\n",
              "      background-color: #E8F0FE;\n",
              "      border: none;\n",
              "      border-radius: 50%;\n",
              "      cursor: pointer;\n",
              "      display: none;\n",
              "      fill: #1967D2;\n",
              "      height: 32px;\n",
              "      padding: 0 0 0 0;\n",
              "      width: 32px;\n",
              "    }\n",
              "\n",
              "    .colab-df-convert:hover {\n",
              "      background-color: #E2EBFA;\n",
              "      box-shadow: 0px 1px 2px rgba(60, 64, 67, 0.3), 0px 1px 3px 1px rgba(60, 64, 67, 0.15);\n",
              "      fill: #174EA6;\n",
              "    }\n",
              "\n",
              "    .colab-df-buttons div {\n",
              "      margin-bottom: 4px;\n",
              "    }\n",
              "\n",
              "    [theme=dark] .colab-df-convert {\n",
              "      background-color: #3B4455;\n",
              "      fill: #D2E3FC;\n",
              "    }\n",
              "\n",
              "    [theme=dark] .colab-df-convert:hover {\n",
              "      background-color: #434B5C;\n",
              "      box-shadow: 0px 1px 3px 1px rgba(0, 0, 0, 0.15);\n",
              "      filter: drop-shadow(0px 1px 2px rgba(0, 0, 0, 0.3));\n",
              "      fill: #FFFFFF;\n",
              "    }\n",
              "  </style>\n",
              "\n",
              "    <script>\n",
              "      const buttonEl =\n",
              "        document.querySelector('#df-9336a60f-e4f5-449a-bd1a-33bb2eb1a687 button.colab-df-convert');\n",
              "      buttonEl.style.display =\n",
              "        google.colab.kernel.accessAllowed ? 'block' : 'none';\n",
              "\n",
              "      async function convertToInteractive(key) {\n",
              "        const element = document.querySelector('#df-9336a60f-e4f5-449a-bd1a-33bb2eb1a687');\n",
              "        const dataTable =\n",
              "          await google.colab.kernel.invokeFunction('convertToInteractive',\n",
              "                                                    [key], {});\n",
              "        if (!dataTable) return;\n",
              "\n",
              "        const docLinkHtml = 'Like what you see? Visit the ' +\n",
              "          '<a target=\"_blank\" href=https://colab.research.google.com/notebooks/data_table.ipynb>data table notebook</a>'\n",
              "          + ' to learn more about interactive tables.';\n",
              "        element.innerHTML = '';\n",
              "        dataTable['output_type'] = 'display_data';\n",
              "        await google.colab.output.renderOutput(dataTable, element);\n",
              "        const docLink = document.createElement('div');\n",
              "        docLink.innerHTML = docLinkHtml;\n",
              "        element.appendChild(docLink);\n",
              "      }\n",
              "    </script>\n",
              "  </div>\n",
              "\n",
              "\n",
              "<div id=\"df-e8e95172-9855-49f5-88dd-22d50cddb0a2\">\n",
              "  <button class=\"colab-df-quickchart\" onclick=\"quickchart('df-e8e95172-9855-49f5-88dd-22d50cddb0a2')\"\n",
              "            title=\"Suggest charts\"\n",
              "            style=\"display:none;\">\n",
              "\n",
              "<svg xmlns=\"http://www.w3.org/2000/svg\" height=\"24px\"viewBox=\"0 0 24 24\"\n",
              "     width=\"24px\">\n",
              "    <g>\n",
              "        <path d=\"M19 3H5c-1.1 0-2 .9-2 2v14c0 1.1.9 2 2 2h14c1.1 0 2-.9 2-2V5c0-1.1-.9-2-2-2zM9 17H7v-7h2v7zm4 0h-2V7h2v10zm4 0h-2v-4h2v4z\"/>\n",
              "    </g>\n",
              "</svg>\n",
              "  </button>\n",
              "\n",
              "<style>\n",
              "  .colab-df-quickchart {\n",
              "      --bg-color: #E8F0FE;\n",
              "      --fill-color: #1967D2;\n",
              "      --hover-bg-color: #E2EBFA;\n",
              "      --hover-fill-color: #174EA6;\n",
              "      --disabled-fill-color: #AAA;\n",
              "      --disabled-bg-color: #DDD;\n",
              "  }\n",
              "\n",
              "  [theme=dark] .colab-df-quickchart {\n",
              "      --bg-color: #3B4455;\n",
              "      --fill-color: #D2E3FC;\n",
              "      --hover-bg-color: #434B5C;\n",
              "      --hover-fill-color: #FFFFFF;\n",
              "      --disabled-bg-color: #3B4455;\n",
              "      --disabled-fill-color: #666;\n",
              "  }\n",
              "\n",
              "  .colab-df-quickchart {\n",
              "    background-color: var(--bg-color);\n",
              "    border: none;\n",
              "    border-radius: 50%;\n",
              "    cursor: pointer;\n",
              "    display: none;\n",
              "    fill: var(--fill-color);\n",
              "    height: 32px;\n",
              "    padding: 0;\n",
              "    width: 32px;\n",
              "  }\n",
              "\n",
              "  .colab-df-quickchart:hover {\n",
              "    background-color: var(--hover-bg-color);\n",
              "    box-shadow: 0 1px 2px rgba(60, 64, 67, 0.3), 0 1px 3px 1px rgba(60, 64, 67, 0.15);\n",
              "    fill: var(--button-hover-fill-color);\n",
              "  }\n",
              "\n",
              "  .colab-df-quickchart-complete:disabled,\n",
              "  .colab-df-quickchart-complete:disabled:hover {\n",
              "    background-color: var(--disabled-bg-color);\n",
              "    fill: var(--disabled-fill-color);\n",
              "    box-shadow: none;\n",
              "  }\n",
              "\n",
              "  .colab-df-spinner {\n",
              "    border: 2px solid var(--fill-color);\n",
              "    border-color: transparent;\n",
              "    border-bottom-color: var(--fill-color);\n",
              "    animation:\n",
              "      spin 1s steps(1) infinite;\n",
              "  }\n",
              "\n",
              "  @keyframes spin {\n",
              "    0% {\n",
              "      border-color: transparent;\n",
              "      border-bottom-color: var(--fill-color);\n",
              "      border-left-color: var(--fill-color);\n",
              "    }\n",
              "    20% {\n",
              "      border-color: transparent;\n",
              "      border-left-color: var(--fill-color);\n",
              "      border-top-color: var(--fill-color);\n",
              "    }\n",
              "    30% {\n",
              "      border-color: transparent;\n",
              "      border-left-color: var(--fill-color);\n",
              "      border-top-color: var(--fill-color);\n",
              "      border-right-color: var(--fill-color);\n",
              "    }\n",
              "    40% {\n",
              "      border-color: transparent;\n",
              "      border-right-color: var(--fill-color);\n",
              "      border-top-color: var(--fill-color);\n",
              "    }\n",
              "    60% {\n",
              "      border-color: transparent;\n",
              "      border-right-color: var(--fill-color);\n",
              "    }\n",
              "    80% {\n",
              "      border-color: transparent;\n",
              "      border-right-color: var(--fill-color);\n",
              "      border-bottom-color: var(--fill-color);\n",
              "    }\n",
              "    90% {\n",
              "      border-color: transparent;\n",
              "      border-bottom-color: var(--fill-color);\n",
              "    }\n",
              "  }\n",
              "</style>\n",
              "\n",
              "  <script>\n",
              "    async function quickchart(key) {\n",
              "      const quickchartButtonEl =\n",
              "        document.querySelector('#' + key + ' button');\n",
              "      quickchartButtonEl.disabled = true;  // To prevent multiple clicks.\n",
              "      quickchartButtonEl.classList.add('colab-df-spinner');\n",
              "      try {\n",
              "        const charts = await google.colab.kernel.invokeFunction(\n",
              "            'suggestCharts', [key], {});\n",
              "      } catch (error) {\n",
              "        console.error('Error during call to suggestCharts:', error);\n",
              "      }\n",
              "      quickchartButtonEl.classList.remove('colab-df-spinner');\n",
              "      quickchartButtonEl.classList.add('colab-df-quickchart-complete');\n",
              "    }\n",
              "    (() => {\n",
              "      let quickchartButtonEl =\n",
              "        document.querySelector('#df-e8e95172-9855-49f5-88dd-22d50cddb0a2 button');\n",
              "      quickchartButtonEl.style.display =\n",
              "        google.colab.kernel.accessAllowed ? 'block' : 'none';\n",
              "    })();\n",
              "  </script>\n",
              "</div>\n",
              "\n",
              "    </div>\n",
              "  </div>\n"
            ],
            "application/vnd.google.colaboratory.intrinsic+json": {
              "type": "dataframe"
            }
          },
          "metadata": {},
          "execution_count": 10
        }
      ]
    },
    {
      "cell_type": "markdown",
      "source": [
        "If we want to narrow down our search, we can look at just one column.\n",
        "\n",
        "Here, we'll look at the first five rows for \"Uninsured Adults\"\n",
        "\n",
        "You can do that using this code:"
      ],
      "metadata": {
        "id": "4fC_Wr0nKhN4"
      }
    },
    {
      "cell_type": "code",
      "source": [
        "df=[\"Uninsured adults\"][1:5]"
      ],
      "metadata": {
        "id": "DY7uD-vGKH26"
      },
      "execution_count": 15,
      "outputs": []
    },
    {
      "cell_type": "markdown",
      "source": [
        "If we wanted to select multiple columns, we can use a similar format\n",
        "\n",
        "To look at Year, Region, State, and Uninsured adults, we can use this code:"
      ],
      "metadata": {
        "id": "cFvC4La_K2gU"
      }
    },
    {
      "cell_type": "code",
      "source": [
        "df=[[\"Year\", \"Region\", \"State\", \"Uninsured adults\"]][1:5]"
      ],
      "metadata": {
        "id": "HLBlkyPiLFkC"
      },
      "execution_count": 17,
      "outputs": []
    },
    {
      "cell_type": "markdown",
      "source": [
        "These functions can allow us to see multiple parts of our data, or narrow it down\n",
        "\n",
        "You can get creative in how much, or how little you want to see"
      ],
      "metadata": {
        "id": "UfhPcgAbMIEy"
      }
    },
    {
      "cell_type": "markdown",
      "source": [
        "Now, see if you can try it on your own creating your own CoLab Notebook!"
      ],
      "metadata": {
        "id": "B8V7s6d1Lr4_"
      }
    }
  ]
}